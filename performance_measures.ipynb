{
  "nbformat": 4,
  "nbformat_minor": 0,
  "metadata": {
    "colab": {
      "provenance": [],
      "authorship_tag": "ABX9TyNP8uVlwmCPx7r5HKf/WUqA",
      "include_colab_link": true
    },
    "kernelspec": {
      "name": "python3",
      "display_name": "Python 3"
    },
    "language_info": {
      "name": "python"
    }
  },
  "cells": [
    {
      "cell_type": "markdown",
      "metadata": {
        "id": "view-in-github",
        "colab_type": "text"
      },
      "source": [
        "<a href=\"https://colab.research.google.com/github/newmantic/performance_measures/blob/main/performance_measures.ipynb\" target=\"_parent\"><img src=\"https://colab.research.google.com/assets/colab-badge.svg\" alt=\"Open In Colab\"/></a>"
      ]
    },
    {
      "cell_type": "code",
      "execution_count": 3,
      "metadata": {
        "colab": {
          "base_uri": "https://localhost:8080/"
        },
        "id": "1aEfUwPE7yTf",
        "outputId": "72fd09ba-038d-43c6-ee1f-594b155b7bcb"
      },
      "outputs": [
        {
          "output_type": "stream",
          "name": "stdout",
          "text": [
            "Beta: 0.05232712076587805\n"
          ]
        }
      ],
      "source": [
        "import numpy as np\n",
        "\n",
        "def beta(returns, market_returns):\n",
        "    cov = np.cov(returns, market_returns)[0, 1]\n",
        "    market_var = np.var(market_returns)\n",
        "    return cov / market_var\n",
        "\n",
        "# Define the returns array\n",
        "returns = np.random.normal(0.01, 0.02, 1000)  # Simulated returns\n",
        "market_returns = np.random.normal(0.01, 0.02, 1000)  # Simulated market returns\n",
        "\n",
        "beta_value = beta(returns, market_returns)\n",
        "print(\"Beta:\", beta_value)"
      ]
    },
    {
      "cell_type": "code",
      "source": [
        "def alpha(returns, market_returns, risk_free_rate=0.01):\n",
        "    return np.mean(returns) - (risk_free_rate + beta(returns, market_returns) * (np.mean(market_returns) - risk_free_rate))\n",
        "\n",
        "# Example\n",
        "alpha_value = alpha(returns, market_returns)\n",
        "print(\"Alpha:\", alpha_value)"
      ],
      "metadata": {
        "colab": {
          "base_uri": "https://localhost:8080/"
        },
        "id": "D89Yd2HfNHyd",
        "outputId": "92aa1fe6-2d66-4337-c3d2-de79f9196333"
      },
      "execution_count": 4,
      "outputs": [
        {
          "output_type": "stream",
          "name": "stdout",
          "text": [
            "Alpha: -0.00012005481668075045\n"
          ]
        }
      ]
    },
    {
      "cell_type": "code",
      "source": [
        "def standard_deviation(returns):\n",
        "    return np.std(returns)\n",
        "\n",
        "def sharpe_ratio(returns, risk_free_rate=0.01):\n",
        "    return (np.mean(returns) - risk_free_rate) / standard_deviation(returns)\n",
        "\n",
        "# Example\n",
        "sharpe_ratio_value = sharpe_ratio(returns)\n",
        "print(\"sharpe ratio:\", sharpe_ratio_value)"
      ],
      "metadata": {
        "colab": {
          "base_uri": "https://localhost:8080/"
        },
        "id": "DZYWCAK0Nsbw",
        "outputId": "d00bf01e-1309-4276-e2a8-b43e564facb8"
      },
      "execution_count": 5,
      "outputs": [
        {
          "output_type": "stream",
          "name": "stdout",
          "text": [
            "sharpe ratio: -0.006281435128417789\n"
          ]
        }
      ]
    },
    {
      "cell_type": "code",
      "source": [
        "def sortino_ratio(returns, risk_free_rate=0.01):\n",
        "    downside_risk = np.std(returns[returns < 0])\n",
        "    return (np.mean(returns) - risk_free_rate) / downside_risk\n",
        "\n",
        "# Example\n",
        "sortino_ratio_value = sortino_ratio(returns)\n",
        "print(\"sortino ratio:\", sortino_ratio_value)"
      ],
      "metadata": {
        "colab": {
          "base_uri": "https://localhost:8080/"
        },
        "id": "3b0VqFTFN--6",
        "outputId": "a43225da-dbb3-401b-aafc-a5563df81a52"
      },
      "execution_count": 6,
      "outputs": [
        {
          "output_type": "stream",
          "name": "stdout",
          "text": [
            "sortino ratio: -0.012033400813753413\n"
          ]
        }
      ]
    },
    {
      "cell_type": "code",
      "source": [
        "def treynor_ratio(returns, market_returns, risk_free_rate=0.01):\n",
        "    return (np.mean(returns) - risk_free_rate) / beta(returns, market_returns)\n",
        "\n",
        "# Example\n",
        "treynor_ratio_value = treynor_ratio(returns, market_returns)\n",
        "print(\"treynor ratio:\", treynor_ratio_value)"
      ],
      "metadata": {
        "colab": {
          "base_uri": "https://localhost:8080/"
        },
        "id": "cfRIE7oKOKoS",
        "outputId": "04b359a1-1bfd-423e-f4a5-e08d8ba7cba7"
      },
      "execution_count": 8,
      "outputs": [
        {
          "output_type": "stream",
          "name": "stdout",
          "text": [
            "treynor ratio: -0.0024409545778042276\n"
          ]
        }
      ]
    },
    {
      "cell_type": "code",
      "source": [
        "def information_ratio(returns, benchmark_returns):\n",
        "    tracking_error = np.std(returns - benchmark_returns)\n",
        "    return (np.mean(returns) - np.mean(benchmark_returns)) / tracking_error\n",
        "\n",
        "# Example\n",
        "benchmark_returns = np.random.normal(0.01, 0.02, 1000)\n",
        "information_ratio_value = information_ratio(returns, benchmark_returns)\n",
        "print(\"information ratio:\", information_ratio_value)"
      ],
      "metadata": {
        "colab": {
          "base_uri": "https://localhost:8080/"
        },
        "id": "RmiwPAggOS2o",
        "outputId": "3ba10ad2-ac59-49d9-af65-a55ee66eb5ed"
      },
      "execution_count": 9,
      "outputs": [
        {
          "output_type": "stream",
          "name": "stdout",
          "text": [
            "information ratio: -0.03674514385610266\n"
          ]
        }
      ]
    },
    {
      "cell_type": "code",
      "source": [
        "def tracking_error(returns, benchmark_returns):\n",
        "    return np.std(returns - benchmark_returns)\n",
        "\n",
        "# Example\n",
        "tracking_error_value = tracking_error(returns, benchmark_returns)\n",
        "print(\"tracking error:\", tracking_error_value)"
      ],
      "metadata": {
        "colab": {
          "base_uri": "https://localhost:8080/"
        },
        "id": "UF8eS3sNOfR5",
        "outputId": "8dce0c3b-738b-4989-c567-1bef3f9608d7"
      },
      "execution_count": 10,
      "outputs": [
        {
          "output_type": "stream",
          "name": "stdout",
          "text": [
            "tracking error: 0.02807916589020615\n"
          ]
        }
      ]
    },
    {
      "cell_type": "code",
      "source": [
        "def maximum_drawdown(returns):\n",
        "    cumulative_returns = np.cumsum(returns)\n",
        "    peak = np.maximum.accumulate(cumulative_returns)\n",
        "    drawdown = cumulative_returns - peak\n",
        "    return np.min(drawdown)\n",
        "\n",
        "# Example\n",
        "max_drawdown = maximum_drawdown(returns)\n",
        "print(\"maximum drawdown:\", max_drawdown)"
      ],
      "metadata": {
        "colab": {
          "base_uri": "https://localhost:8080/"
        },
        "id": "2bR4hQJlOoS-",
        "outputId": "55a0053f-8420-4a1f-cc2b-eca93e97f0a7"
      },
      "execution_count": 11,
      "outputs": [
        {
          "output_type": "stream",
          "name": "stdout",
          "text": [
            "maximum drawdown: -0.13842493634174424\n"
          ]
        }
      ]
    },
    {
      "cell_type": "code",
      "source": [
        "def downside_deviation(returns, threshold=0):\n",
        "    downside_returns = returns[returns < threshold]\n",
        "    return np.std(downside_returns)\n",
        "\n",
        "# Example\n",
        "downside_dev = downside_deviation(returns, 0)\n",
        "print(\"downside deviation:\", downside_dev)"
      ],
      "metadata": {
        "colab": {
          "base_uri": "https://localhost:8080/"
        },
        "id": "dUwtJbTIOxKb",
        "outputId": "b68c1626-27d5-41a0-b82f-a9cd2b31e0d4"
      },
      "execution_count": 12,
      "outputs": [
        {
          "output_type": "stream",
          "name": "stdout",
          "text": [
            "downside deviation: 0.010614466097630485\n"
          ]
        }
      ]
    },
    {
      "cell_type": "code",
      "source": [
        "def upside_potential_ratio(returns, threshold=0):\n",
        "    upside_potential = np.mean(returns[returns > threshold])\n",
        "    downside_risk = downside_deviation(returns, threshold)\n",
        "    return upside_potential / downside_risk\n",
        "\n",
        "# Example\n",
        "upr_value = upside_potential_ratio(returns, 0)\n",
        "print(\"upside potential ratio:\", upr_value)"
      ],
      "metadata": {
        "colab": {
          "base_uri": "https://localhost:8080/"
        },
        "id": "XSrV9EP2O5CH",
        "outputId": "87e7e555-d928-40b1-9671-a15095ce3fea"
      },
      "execution_count": 13,
      "outputs": [
        {
          "output_type": "stream",
          "name": "stdout",
          "text": [
            "upside potential ratio: 1.9304640173246383\n"
          ]
        }
      ]
    },
    {
      "cell_type": "code",
      "source": [
        "def omega_ratio(returns, threshold=0):\n",
        "    gains = np.sum(returns[returns > threshold] - threshold)\n",
        "    losses = -np.sum(returns[returns < threshold] - threshold)\n",
        "    return gains / losses\n",
        "\n",
        "# Example\n",
        "omega_value = omega_ratio(returns, 0)\n",
        "print(\"omega ratio:\", omega_value)"
      ],
      "metadata": {
        "colab": {
          "base_uri": "https://localhost:8080/"
        },
        "id": "jZTks4mmPC2Y",
        "outputId": "a465a3c1-b0bb-4d57-c8e9-735c0b3622dd"
      },
      "execution_count": 14,
      "outputs": [
        {
          "output_type": "stream",
          "name": "stdout",
          "text": [
            "omega ratio: 3.3592771562436416\n"
          ]
        }
      ]
    },
    {
      "cell_type": "code",
      "source": [
        "def jensens_alpha(returns, market_returns, risk_free_rate=0.01):\n",
        "    return np.mean(returns) - (risk_free_rate + beta(returns, market_returns) * (np.mean(market_returns) - risk_free_rate))\n",
        "\n",
        "# Example\n",
        "jensens_alpha_value = jensens_alpha(returns, market_returns)\n",
        "print(\"jensens alpha:\", jensens_alpha_value)"
      ],
      "metadata": {
        "colab": {
          "base_uri": "https://localhost:8080/"
        },
        "id": "ZOyos8OdPK58",
        "outputId": "0086bf17-db5c-4a82-cd89-2c99c7d16769"
      },
      "execution_count": 15,
      "outputs": [
        {
          "output_type": "stream",
          "name": "stdout",
          "text": [
            "jensens alpha: -0.00012005481668075045\n"
          ]
        }
      ]
    },
    {
      "cell_type": "code",
      "source": [
        "def m_squared(returns, market_returns, risk_free_rate=0.01): # Modigliani Risk-Adjusted\n",
        "    sharpe_ratio_value = sharpe_ratio(returns, risk_free_rate)\n",
        "    market_volatility = np.std(market_returns)\n",
        "    return risk_free_rate + sharpe_ratio_value * market_volatility\n",
        "\n",
        "# Example\n",
        "m_squared_value = m_squared(returns, market_returns)\n",
        "print(\"Modigliani m_squared:\", m_squared_value)"
      ],
      "metadata": {
        "colab": {
          "base_uri": "https://localhost:8080/"
        },
        "id": "NfoH_AQ2PWq0",
        "outputId": "810a9f8c-0db5-4d21-c5da-c1d3a9e57983"
      },
      "execution_count": 16,
      "outputs": [
        {
          "output_type": "stream",
          "name": "stdout",
          "text": [
            "Modigliani m_squared: 0.009873554243208828\n"
          ]
        }
      ]
    },
    {
      "cell_type": "code",
      "source": [
        "def calmar_ratio(returns, risk_free_rate=0.01):\n",
        "    annualized_return = np.mean(returns) * 252\n",
        "    max_drawdown_value = maximum_drawdown(returns)\n",
        "    return (annualized_return - risk_free_rate) / -max_drawdown_value\n",
        "\n",
        "# Example\n",
        "calmar_ratio_value = calmar_ratio(returns)\n",
        "print(\"calmar ratio:\", calmar_ratio_value)"
      ],
      "metadata": {
        "colab": {
          "base_uri": "https://localhost:8080/"
        },
        "id": "gsDlYiZlPnQq",
        "outputId": "b7fbf279-6d7e-4b7c-cbac-2ddfbd213c81"
      },
      "execution_count": 17,
      "outputs": [
        {
          "output_type": "stream",
          "name": "stdout",
          "text": [
            "calmar ratio: 17.90004444277737\n"
          ]
        }
      ]
    },
    {
      "cell_type": "code",
      "source": [
        "def sterling_ratio(returns, threshold=0.10):\n",
        "    annualized_return = np.mean(returns) * 252\n",
        "    max_drawdown_value = maximum_drawdown(returns)\n",
        "    return annualized_return / (-max_drawdown_value + threshold)\n",
        "\n",
        "# Example\n",
        "sterling_ratio_value = sterling_ratio(returns)\n",
        "print(\"sterling ratio:\", sterling_ratio_value)"
      ],
      "metadata": {
        "colab": {
          "base_uri": "https://localhost:8080/"
        },
        "id": "LqB3ob9GPvtR",
        "outputId": "5e22b638-d46e-496a-e0b0-b6ec819d529c"
      },
      "execution_count": 18,
      "outputs": [
        {
          "output_type": "stream",
          "name": "stdout",
          "text": [
            "sterling ratio: 10.434363748513144\n"
          ]
        }
      ]
    },
    {
      "cell_type": "code",
      "source": [
        "def burke_ratio(returns, threshold=0.10):\n",
        "    cumulative_returns = np.cumsum(returns)\n",
        "    drawdowns = np.maximum.accumulate(cumulative_returns) - cumulative_returns\n",
        "    adjusted_drawdown = np.sqrt(np.mean(drawdowns**2))\n",
        "    annualized_return = np.mean(returns) * 252\n",
        "    return annualized_return / (adjusted_drawdown + threshold)\n",
        "\n",
        "# Example\n",
        "burke_ratio_value = burke_ratio(returns)\n",
        "print(\"burke ratio:\", burke_ratio_value)"
      ],
      "metadata": {
        "colab": {
          "base_uri": "https://localhost:8080/"
        },
        "id": "d7jhLZbhP4Oh",
        "outputId": "e361b441-b238-48dd-941b-0b749f044959"
      },
      "execution_count": 19,
      "outputs": [
        {
          "output_type": "stream",
          "name": "stdout",
          "text": [
            "burke ratio: 20.197886661824075\n"
          ]
        }
      ]
    },
    {
      "cell_type": "code",
      "source": [
        "def gain_loss_ratio(returns):\n",
        "    gains = np.sum(returns[returns > 0])\n",
        "    losses = -np.sum(returns[returns < 0])\n",
        "    return gains / losses\n",
        "\n",
        "# Example\n",
        "gain_loss_ratio_value = gain_loss_ratio(returns)\n",
        "print(\"gain loss ratio:\", gain_loss_ratio_value)"
      ],
      "metadata": {
        "colab": {
          "base_uri": "https://localhost:8080/"
        },
        "id": "ydGmgUtCQA9L",
        "outputId": "f627a121-e2b4-47b3-d8cb-d469055e68ef"
      },
      "execution_count": 20,
      "outputs": [
        {
          "output_type": "stream",
          "name": "stdout",
          "text": [
            "gain loss ratio: 3.3592771562436416\n"
          ]
        }
      ]
    },
    {
      "cell_type": "code",
      "source": [
        "def pain_ratio(returns, risk_free_rate=0.01):\n",
        "    cumulative_returns = np.cumsum(returns)\n",
        "    drawdowns = np.maximum.accumulate(cumulative_returns) - cumulative_returns\n",
        "    avg_drawdown = np.mean(drawdowns)\n",
        "    annualized_return = np.mean(returns) * 252\n",
        "    return (annualized_return - risk_free_rate) / avg_drawdown\n",
        "\n",
        "# Example\n",
        "pain_ratio_value = pain_ratio(returns)\n",
        "print(\"pain ratio:\", pain_ratio_value)"
      ],
      "metadata": {
        "colab": {
          "base_uri": "https://localhost:8080/"
        },
        "id": "hzRViw86QJFC",
        "outputId": "28209fcf-32b0-4497-be72-79fae0d923a2"
      },
      "execution_count": 21,
      "outputs": [
        {
          "output_type": "stream",
          "name": "stdout",
          "text": [
            "pain ratio: 207.1361861500194\n"
          ]
        }
      ]
    },
    {
      "cell_type": "code",
      "source": [
        "def tail_ratio(returns):\n",
        "    return np.percentile(returns, 95) / np.percentile(returns, 5)\n",
        "\n",
        "# Example\n",
        "tail_ratio_value = tail_ratio(returns)\n",
        "print(\"tail ratio:\", tail_ratio_value)"
      ],
      "metadata": {
        "colab": {
          "base_uri": "https://localhost:8080/"
        },
        "id": "C3dI2DHoQREt",
        "outputId": "f637d44f-0070-4686-9f97-149050b757a8"
      },
      "execution_count": 22,
      "outputs": [
        {
          "output_type": "stream",
          "name": "stdout",
          "text": [
            "tail ratio: -1.7626264951914892\n"
          ]
        }
      ]
    },
    {
      "cell_type": "code",
      "source": [
        "def capture_ratio(returns, market_returns):\n",
        "    up_market_returns = market_returns[market_returns > 0]\n",
        "    down_market_returns = market_returns[market_returns < 0]\n",
        "    up_capture = np.mean(returns[market_returns > 0]) / np.mean(up_market_returns)\n",
        "    down_capture = np.mean(returns[market_returns < 0]) / np.mean(down_market_returns)\n",
        "    return up_capture / down_capture\n",
        "\n",
        "# Example\n",
        "capture_ratio_value = capture_ratio(returns, market_returns)\n",
        "print(\"capture ratio:\", capture_ratio_value)"
      ],
      "metadata": {
        "colab": {
          "base_uri": "https://localhost:8080/"
        },
        "id": "rlxyUp3PQbGd",
        "outputId": "f9c2475a-88e9-43fb-bff2-8c0a5dc40719"
      },
      "execution_count": 23,
      "outputs": [
        {
          "output_type": "stream",
          "name": "stdout",
          "text": [
            "capture ratio: -0.754094537176529\n"
          ]
        }
      ]
    },
    {
      "cell_type": "code",
      "source": [
        "def upside_capture_ratio(returns, market_returns):\n",
        "    up_market_returns = market_returns[market_returns > 0]\n",
        "    return np.mean(returns[market_returns > 0]) / np.mean(up_market_returns)\n",
        "\n",
        "# Example\n",
        "upside_capture_ratio_value = upside_capture_ratio(returns, market_returns)\n",
        "print(\"upside capture ratio:\", upside_capture_ratio_value)"
      ],
      "metadata": {
        "colab": {
          "base_uri": "https://localhost:8080/"
        },
        "id": "MIYNV2vAQi7p",
        "outputId": "eecee889-224c-4710-f6f8-472fdfea333b"
      },
      "execution_count": 24,
      "outputs": [
        {
          "output_type": "stream",
          "name": "stdout",
          "text": [
            "upside capture ratio: 0.5185703974043426\n"
          ]
        }
      ]
    },
    {
      "cell_type": "code",
      "source": [
        "def downside_capture_ratio(returns, market_returns):\n",
        "    down_market_returns = market_returns[market_returns < 0]\n",
        "    return np.mean(returns[market_returns < 0]) / np.mean(down_market_returns)\n",
        "\n",
        "# Example\n",
        "downside_capture_ratio_value = downside_capture_ratio(returns, market_returns)\n",
        "print(\"downside capture ratio:\", downside_capture_ratio_value)"
      ],
      "metadata": {
        "colab": {
          "base_uri": "https://localhost:8080/"
        },
        "id": "Z6Oyn7uXQqRx",
        "outputId": "db6f4dd3-c161-4c71-ca8c-64ca5b235e8c"
      },
      "execution_count": 25,
      "outputs": [
        {
          "output_type": "stream",
          "name": "stdout",
          "text": [
            "downside capture ratio: -0.6876729267207892\n"
          ]
        }
      ]
    },
    {
      "cell_type": "code",
      "source": [
        "def kappa_3_ratio(returns, risk_free_rate=0.01):\n",
        "    threshold = risk_free_rate\n",
        "    downside_risk = np.mean((returns[returns < threshold] - threshold)**3)**(1/3)\n",
        "    return (np.mean(returns) - threshold) / downside_risk\n",
        "\n",
        "# Example\n",
        "kappa_3_ratio_value = kappa_3_ratio(returns)\n",
        "print(\"kappa 3 ratio:\", kappa_3_ratio_value)"
      ],
      "metadata": {
        "colab": {
          "base_uri": "https://localhost:8080/"
        },
        "id": "k2gfS9XAQwix",
        "outputId": "ceb8a73b-d902-44bb-fe48-9edfc0c348e2"
      },
      "execution_count": 26,
      "outputs": [
        {
          "output_type": "stream",
          "name": "stdout",
          "text": [
            "kappa 3 ratio: nan\n"
          ]
        },
        {
          "output_type": "stream",
          "name": "stderr",
          "text": [
            "<ipython-input-26-78156fcd2c7b>:3: RuntimeWarning: invalid value encountered in scalar power\n",
            "  downside_risk = np.mean((returns[returns < threshold] - threshold)**3)**(1/3)\n"
          ]
        }
      ]
    },
    {
      "cell_type": "code",
      "source": [
        "def skewness(returns):\n",
        "    return np.mean((returns - np.mean(returns))**3) / (np.std(returns)**3)\n",
        "\n",
        "def kurtosis(returns):\n",
        "    return np.mean((returns - np.mean(returns))**4) / (np.std(returns)**4) - 3\n",
        "\n",
        "def modified_sharpe_ratio(returns, risk_free_rate=0.01):\n",
        "    skew = skewness(returns)\n",
        "    kurt = kurtosis(returns)\n",
        "    excess_return = np.mean(returns) - risk_free_rate\n",
        "    adjusted_risk = standard_deviation(returns) * (1 + (skew / 6) * excess_return + (kurt - 3) / 24 * excess_return**2)\n",
        "    return excess_return / adjusted_risk\n",
        "\n",
        "# Example\n",
        "modified_sharpe_ratio_value = modified_sharpe_ratio(returns)\n",
        "print(\"modified sharpe ratio:\", modified_sharpe_ratio_value)"
      ],
      "metadata": {
        "colab": {
          "base_uri": "https://localhost:8080/"
        },
        "id": "U82UA1oEQ4xB",
        "outputId": "785cd335-024a-4622-86ff-845e4fa6b7a8"
      },
      "execution_count": 27,
      "outputs": [
        {
          "output_type": "stream",
          "name": "stdout",
          "text": [
            "modified sharpe ratio: -0.006281430985538976\n"
          ]
        }
      ]
    }
  ]
}